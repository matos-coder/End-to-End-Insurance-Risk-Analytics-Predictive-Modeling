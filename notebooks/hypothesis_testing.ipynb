{
 "cells": [
  {
   "cell_type": "code",
   "execution_count": null,
   "id": "5a332a3e",
   "metadata": {},
   "outputs": [],
   "source": [
    "# Task 3: Hypothesis Testing\n",
    "\n",
    "# **1. Import Necessary Libraries and Functions**\n",
    "import pandas as pd\n",
    "import sys\n",
    "import os\n",
    "sys.path.append(os.path.abspath('../src/utils'))\n",
    "from hypothesis_testing import (\n",
    "    calculate_claim_metrics,\n",
    "    segment_data,\n",
    "    perform_t_test,\n",
    "    perform_chi_squared_test,\n",
    "    interpret_results\n",
    ")\n",
    "import matplotlib.pyplot as plt\n",
    "import seaborn as sns\n",
    "\n",
    "# **2. Load the Dataset**\n",
    "# Replace with your actual dataset path\n",
    "data_path = \"../data/raw/MachineLearningRating_v3.txt\"\n",
    "df = pd.read_csv(data_path, sep=\"\\t\")\n",
    "\n",
    "# **3. Explore and Preprocess Data**\n",
    "print(\"Initial Dataset Overview:\")\n",
    "print(df.head())\n",
    "print(\"\\nDataset Summary:\")\n",
    "print(df.info())\n",
    "\n",
    "# Add calculated metrics\n",
    "print(\"\\nCalculating Claim Metrics...\")\n",
    "df = calculate_claim_metrics(df)\n",
    "print(df.head())"
   ]
  }
 ],
 "metadata": {
  "kernelspec": {
   "display_name": "venv",
   "language": "python",
   "name": "python3"
  },
  "language_info": {
   "codemirror_mode": {
    "name": "ipython",
    "version": 3
   },
   "file_extension": ".py",
   "mimetype": "text/x-python",
   "name": "python",
   "nbconvert_exporter": "python",
   "pygments_lexer": "ipython3",
   "version": "3.13.1"
  }
 },
 "nbformat": 4,
 "nbformat_minor": 5
}
