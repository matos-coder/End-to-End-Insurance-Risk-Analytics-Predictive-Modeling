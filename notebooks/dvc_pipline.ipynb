{
 "cells": [
  {
   "cell_type": "code",
   "execution_count": 1,
   "id": "b25a3922",
   "metadata": {},
   "outputs": [
    {
     "name": "stdout",
     "output_type": "stream",
     "text": [
      "Checking DVC initialization...\n",
      "Initializing DVC...\n",
      "Error initializing DVC: Command '['dvc', 'init']' returned non-zero exit status 1.\n",
      "DVC initialized successfully.\n",
      "Checking if DVC remote 'localstorage' exists...\n",
      "DVC remote 'localstorage' already exists.\n",
      "Checking if dataset exists at '../data/raw/MachineLearningRating_v3.txt'...\n",
      "Tracking dataset '../data/raw/MachineLearningRating_v3.txt' with DVC...\n",
      "Error adding file '../data/raw/MachineLearningRating_v3.txt' to DVC: Command '['dvc', 'add', '../data/raw/MachineLearningRating_v3.txt']' returned non-zero exit status 1.\n",
      "Dataset tracked successfully.\n",
      "No DVC file found at '../data/raw/MachineLearningRating_v3.txt.dvc'. Skipping Git commit.\n",
      "Pushing data to DVC remote...\n",
      "Data pushed to DVC remote successfully.\n",
      "Data pushed to DVC remote successfully.\n",
      "Verifying DVC pipeline (listing DVC-tracked files)...\n",
      "There are no data or pipelines tracked in this project yet.\n",
      "See <https://dvc.org/doc/start> to get started!\n",
      "\n",
      "Initializing DVC...\n",
      "Error initializing DVC: Command '['dvc', 'init']' returned non-zero exit status 1.\n",
      "Configuring DVC remote 'localstorage' at 'C:\\Users\\hp\\Desktop\\matos\\tenx 10academy\\week 3\\End-to-End Insurance Risk Analytics & Predictive Modeling\\data\\remote_storage'...\n",
      "Directory 'C:\\Users\\hp\\Desktop\\matos\\tenx 10academy\\week 3\\End-to-End Insurance Risk Analytics & Predictive Modeling\\data\\remote_storage' created or already exists.\n",
      "Error configuring DVC remote: Command '['dvc', 'remote', 'add', '-d', 'localstorage', 'C:\\\\Users\\\\hp\\\\Desktop\\\\matos\\\\tenx 10academy\\\\week 3\\\\End-to-End Insurance Risk Analytics & Predictive Modeling\\\\data\\\\remote_storage']' returned non-zero exit status 251.\n",
      "Tracking dataset '../data/raw/MachineLearningRating_v3.txt'...\n",
      "Error adding file '../data/raw/MachineLearningRating_v3.txt' to DVC: Command '['dvc', 'add', '../data/raw/MachineLearningRating_v3.txt']' returned non-zero exit status 1.\n",
      "Committing changes to Git...\n"
     ]
    },
    {
     "name": "stderr",
     "output_type": "stream",
     "text": [
      "fatal: pathspec '../data/raw/MachineLearningRating_v3.txt.dvc' did not match any files\n"
     ]
    },
    {
     "name": "stdout",
     "output_type": "stream",
     "text": [
      "On branch task-2\n",
      "Your branch is up to date with 'origin/task-2'.\n",
      "\n",
      "Changes not staged for commit:\n",
      "  (use \"git add <file>...\" to update what will be committed)\n",
      "  (use \"git restore <file>...\" to discard changes in working directory)\n",
      "\tmodified:   dvc_pipline.ipynb\n",
      "\tmodified:   ../src/utils/dvc_setup.py\n",
      "\n",
      "no changes added to commit (use \"git add\" and/or \"git commit -a\")\n",
      "Pushing data to DVC remote...\n",
      "Data pushed to DVC remote successfully.\n",
      "Verifying DVC pipeline...\n"
     ]
    }
   ],
   "source": [
    "# **Task 2: Setting Up Data Version Control (DVC) Pipeline**\n",
    "\n",
    "# **Step 1: Importing Necessary Functions**\n",
    "# Import functions from the `dvc_setup.py` module for setting up DVC.\n",
    "import sys\n",
    "import os\n",
    "sys.path.append(os.path.abspath('../src/utils'))\n",
    "from dvc_setup import initialize_dvc, configure_remote, track_data, push_to_remote\n",
    "\n",
    "# **Step 2: Initialize DVC**\n",
    "# Initializing DVC in the project directory.\n",
    "print(\"Initializing DVC...\")\n",
    "initialize_dvc()\n",
    "\n",
    "# **Step 3: Configure DVC Remote**\n",
    "# Configure the local remote storage for DVC.\n",
    "REMOTE_NAME = \"localstorage\"\n",
    "REMOTE_PATH = r\"C:\\Users\\hp\\Desktop\\matos\\tenx 10academy\\week 3\\End-to-End Insurance Risk Analytics & Predictive Modeling\\data\\remote_storage\"\n",
    "print(f\"Configuring DVC remote '{REMOTE_NAME}' at '{REMOTE_PATH}'...\")\n",
    "configure_remote(REMOTE_NAME, REMOTE_PATH)\n",
    "\n",
    "# **Step 4: Add and Track Data**\n",
    "# Specify the dataset file to be tracked by DVC.\n",
    "DATASET_PATH = \"../data/raw/MachineLearningRating_v3.txt\"  # Update with your dataset path.\n",
    "print(f\"Tracking dataset '{DATASET_PATH}'...\")\n",
    "track_data(DATASET_PATH)\n",
    "\n",
    "# **Step 5: Commit Changes to Git**\n",
    "# After adding data to DVC, commit changes to Git.\n",
    "print(\"Committing changes to Git...\")\n",
    "!git add ../data/raw/MachineLearningRating_v3.txt.dvc data/raw/.gitignore\n",
    "!git commit -m \"Tracked dataset with DVC\"\n",
    "\n",
    "# **Step 6: Push Data to Remote**\n",
    "# Push the tracked data to the configured remote storage.\n",
    "print(\"Pushing data to DVC remote...\")\n",
    "push_to_remote()\n",
    "\n",
    "# **Step 7: Verify Data Pipeline**\n",
    "# Listing the DVC files to verify the pipeline.\n",
    "print(\"Verifying DVC pipeline...\")\n",
    "\n"
   ]
  }
 ],
 "metadata": {
  "kernelspec": {
   "display_name": "venv",
   "language": "python",
   "name": "python3"
  },
  "language_info": {
   "codemirror_mode": {
    "name": "ipython",
    "version": 3
   },
   "file_extension": ".py",
   "mimetype": "text/x-python",
   "name": "python",
   "nbconvert_exporter": "python",
   "pygments_lexer": "ipython3",
   "version": "3.13.1"
  }
 },
 "nbformat": 4,
 "nbformat_minor": 5
}
